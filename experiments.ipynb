{
 "cells": [
  {
   "cell_type": "code",
   "execution_count": 1,
   "id": "f01da190",
   "metadata": {},
   "outputs": [],
   "source": [
    "from langchain_groq import ChatGroq\n",
    "llm=ChatGroq(model=\"llama3-8b-8192\")"
   ]
  },
  {
   "cell_type": "code",
   "execution_count": 3,
   "id": "d7316a12",
   "metadata": {},
   "outputs": [],
   "source": [
    "from fastapi import FastAPI\n",
    "import streamlit"
   ]
  },
  {
   "cell_type": "code",
   "execution_count": 1,
   "id": "39d22c52",
   "metadata": {},
   "outputs": [],
   "source": [
    "from utils import NEWS_API_KEY\n",
    "import requests\n",
    "import json\n",
    "\n",
    "def fetch_news(query=\"Artificial Intelligence\", language=\"en\", page_size=3):\n",
    "    url = \"https://newsapi.org/v2/everything\"\n",
    "    params = {\n",
    "        \"q\": query,\n",
    "        \"apiKey\": NEWS_API_KEY,\n",
    "        \"language\": language,\n",
    "        \"pageSize\": page_size,\n",
    "        \"sortBy\": \"publishedAt\"\n",
    "    }\n",
    "    response = requests.get(url, params=params)\n",
    "\n",
    "    with open(\"news.json\",\"w\",encoding=\"utf-8\") as file:\n",
    "        file.write(json.dumps(response.json(), indent=2))\n",
    "    articles = response.json().get(\"articles\", [])\n",
    "    return [{\"title\": a[\"title\"], \"url\": a[\"url\"], \"content\": a[\"description\"]} for a in articles]"
   ]
  },
  {
   "cell_type": "code",
   "execution_count": 5,
   "id": "dc0c7082",
   "metadata": {},
   "outputs": [
    {
     "name": "stdout",
     "output_type": "stream",
     "text": [
      "[{'title': 'Docebo to Host Second Quarter Fiscal 2025 Conference Call', 'url': 'https://financialpost.com/pmn/business-wire-news-releases-pmn/docebo-to-host-second-quarter-fiscal-2025-conference-call', 'content': 'TORONTO — Docebo Inc. (Nasdaq:DCBO; TSX:DCBO) (“Docebo” or the “Company“), a leading learning platform provider with a foundation in artificial intelligence (AI) and innovation, announced today that it will hold a conference call to discuss its second quarter…'}, {'title': 'Elon Musk promises Tesla shareholders a vote over buying equity in his Grok startup—‘If it was up to me, Tesla would have invested in xAI long ago’', 'url': 'https://biztoc.com/x/bab7e896b586ea05', 'content': 'Tesla CEO Elon Musk is calling for shareholders to get a vote over whether to invest in his artificial intelligence startup xAI. The earliest this would likely come is November, when the EV company is scheduled to hold its annual meeting. The news comes as Mu…'}, {'title': 'Macron to raise defence targets, citing Russia threat', 'url': 'https://www.spacewar.com/reports/Macron_to_raise_defence_targets_citing_Russia_threat_999.html', 'content': 'Paris (AFP) July 13, 2025\\n\\n\\n President Emmanuel Macron on Sunday called for a massive boost to France\\'s defence spending, saying freedom in Europe was facing a greater threat than at any time since the end of World War II. \\n\\n\"We are living a pivotal moment,\" …'}]\n"
     ]
    }
   ],
   "source": [
    "from utils import NEWS_API_KEY\n",
    "import requests\n",
    "import json\n",
    "\n",
    "query=\"Artificial Intelligence\"\n",
    "language=\"en\"\n",
    "page_size=3\n",
    "url = \"https://newsapi.org/v2/everything\"\n",
    "params = {\n",
    "        \"q\": query,\n",
    "        \"apiKey\": NEWS_API_KEY,\n",
    "        \"language\": language,\n",
    "        \"pageSize\": page_size,\n",
    "        \"sortBy\": \"publishedAt\"\n",
    "    }\n",
    "response = requests.get(url, params=params)\n",
    "articles=response.json().get(\"articles\", [])\n",
    "l=[{\"title\": a[\"title\"], \"url\": a[\"url\"], \"content\": a[\"description\"]} for a in articles]\n",
    "print(l)"
   ]
  },
  {
   "cell_type": "code",
   "execution_count": 5,
   "id": "9529a7a4",
   "metadata": {},
   "outputs": [
    {
     "name": "stdout",
     "output_type": "stream",
     "text": [
      "[{'title': ' João Félix leaves AC Milan, it’s official', 'url': 'https://onefootball.com/en/news/joao-felix-leaves-ac-milan-its-official-41302032', 'content': \"Who will be his next club?Loaned last winter by Chelsea to AC Milan, João Félix is leaving the Lombard club, it's official! AC Milan indeed announced it this Saturday morning.All the best for the fu...\"}, {'title': 'Oppenheimer & Co. Inc. Buys 6,015 Shares of Globant S.A. (NYSE:GLOB)', 'url': 'https://www.etfdailynews.com/2025/06/28/oppenheimer-co-inc-buys-6015-shares-of-globant-s-a-nyseglob/', 'content': 'Oppenheimer & Co. Inc. raised its stake in Globant S.A. (NYSE:GLOB – Free Report) by 78.5% during the first quarter, HoldingsChannel reports. The institutional investor owned 13,680 shares of the information technology services provider’s stock after acquirin…'}, {'title': \"Summer Electricity Bills Set to Jump Higher Than Last Year—Here's Why\", 'url': 'https://biztoc.com/x/2952493868e31df5', 'content': 'Voice is AI-generated. Inconsistencies may occur.\\nElectricity bills are set to climb across the United States, with households bracing for higher costs this summer.\\nAnalysts say three forces are converging: a spike in natural-gas prices, surging load from art…'}]\n"
     ]
    }
   ],
   "source": [
    "print(fetch_news())"
   ]
  },
  {
   "cell_type": "code",
   "execution_count": 7,
   "id": "e8336506",
   "metadata": {},
   "outputs": [],
   "source": [
    "from langchain_groq import ChatGroq\n",
    "from langchain_core.messages import HumanMessage\n",
    "\n",
    "def summarise_article(title,content):\n",
    "    llm = ChatGroq(model=\"llama3-8b-8192\")\n",
    "    prompt = f\"Title: {title}\\n Content: {content}\\n\\nSummarize this article in 3 bullet points.\"\n",
    "    return llm.invoke(HumanMessage(content=prompt))"
   ]
  },
  {
   "cell_type": "code",
   "execution_count": 3,
   "id": "b4dd5ce9",
   "metadata": {},
   "outputs": [
    {
     "name": "stdout",
     "output_type": "stream",
     "text": [
      "2025-06-29 23:39:44\n"
     ]
    }
   ],
   "source": [
    "from datetime import datetime\n",
    "def current_time():\n",
    "    return datetime.now().strftime(\"%Y-%m-%d %H:%M:%S\")\n",
    "\n",
    "print(current_time())\n",
    "\n"
   ]
  },
  {
   "cell_type": "code",
   "execution_count": 4,
   "id": "abd3d417",
   "metadata": {},
   "outputs": [
    {
     "ename": "ValidationError",
     "evalue": "21 validation errors for HumanMessage\ncontent.str\n  Input should be a valid string [type=string_type, input_value=ChatPromptTemplate(input_... additional_kwargs={})]), input_type=ChatPromptTemplate]\n    For further information visit https://errors.pydantic.dev/2.9/v/string_type\ncontent.list[union[str,dict[any,any]]].0.str\n  Input should be a valid string [type=string_type, input_value=('name', None), input_type=tuple]\n    For further information visit https://errors.pydantic.dev/2.9/v/string_type\ncontent.list[union[str,dict[any,any]]].0.dict[any,any]\n  Input should be a valid dictionary [type=dict_type, input_value=('name', None), input_type=tuple]\n    For further information visit https://errors.pydantic.dev/2.9/v/dict_type\ncontent.list[union[str,dict[any,any]]].1.str\n  Input should be a valid string [type=string_type, input_value=('input_variables', []), input_type=tuple]\n    For further information visit https://errors.pydantic.dev/2.9/v/string_type\ncontent.list[union[str,dict[any,any]]].1.dict[any,any]\n  Input should be a valid dictionary [type=dict_type, input_value=('input_variables', []), input_type=tuple]\n    For further information visit https://errors.pydantic.dev/2.9/v/dict_type\ncontent.list[union[str,dict[any,any]]].2.str\n  Input should be a valid string [type=string_type, input_value=('optional_variables', []), input_type=tuple]\n    For further information visit https://errors.pydantic.dev/2.9/v/string_type\ncontent.list[union[str,dict[any,any]]].2.dict[any,any]\n  Input should be a valid dictionary [type=dict_type, input_value=('optional_variables', []), input_type=tuple]\n    For further information visit https://errors.pydantic.dev/2.9/v/dict_type\ncontent.list[union[str,dict[any,any]]].3.str\n  Input should be a valid string [type=string_type, input_value=('input_types', {}), input_type=tuple]\n    For further information visit https://errors.pydantic.dev/2.9/v/string_type\ncontent.list[union[str,dict[any,any]]].3.dict[any,any]\n  Input should be a valid dictionary [type=dict_type, input_value=('input_types', {}), input_type=tuple]\n    For further information visit https://errors.pydantic.dev/2.9/v/dict_type\ncontent.list[union[str,dict[any,any]]].4.str\n  Input should be a valid string [type=string_type, input_value=('output_parser', None), input_type=tuple]\n    For further information visit https://errors.pydantic.dev/2.9/v/string_type\ncontent.list[union[str,dict[any,any]]].4.dict[any,any]\n  Input should be a valid dictionary [type=dict_type, input_value=('output_parser', None), input_type=tuple]\n    For further information visit https://errors.pydantic.dev/2.9/v/dict_type\ncontent.list[union[str,dict[any,any]]].5.str\n  Input should be a valid string [type=string_type, input_value=('partial_variables', {}), input_type=tuple]\n    For further information visit https://errors.pydantic.dev/2.9/v/string_type\ncontent.list[union[str,dict[any,any]]].5.dict[any,any]\n  Input should be a valid dictionary [type=dict_type, input_value=('partial_variables', {}), input_type=tuple]\n    For further information visit https://errors.pydantic.dev/2.9/v/dict_type\ncontent.list[union[str,dict[any,any]]].6.str\n  Input should be a valid string [type=string_type, input_value=('metadata', None), input_type=tuple]\n    For further information visit https://errors.pydantic.dev/2.9/v/string_type\ncontent.list[union[str,dict[any,any]]].6.dict[any,any]\n  Input should be a valid dictionary [type=dict_type, input_value=('metadata', None), input_type=tuple]\n    For further information visit https://errors.pydantic.dev/2.9/v/dict_type\ncontent.list[union[str,dict[any,any]]].7.str\n  Input should be a valid string [type=string_type, input_value=('tags', None), input_type=tuple]\n    For further information visit https://errors.pydantic.dev/2.9/v/string_type\ncontent.list[union[str,dict[any,any]]].7.dict[any,any]\n  Input should be a valid dictionary [type=dict_type, input_value=('tags', None), input_type=tuple]\n    For further information visit https://errors.pydantic.dev/2.9/v/dict_type\ncontent.list[union[str,dict[any,any]]].8.str\n  Input should be a valid string [type=string_type, input_value=('messages', [HumanMessag... additional_kwargs={})]), input_type=tuple]\n    For further information visit https://errors.pydantic.dev/2.9/v/string_type\ncontent.list[union[str,dict[any,any]]].8.dict[any,any]\n  Input should be a valid dictionary [type=dict_type, input_value=('messages', [HumanMessag... additional_kwargs={})]), input_type=tuple]\n    For further information visit https://errors.pydantic.dev/2.9/v/dict_type\ncontent.list[union[str,dict[any,any]]].9.str\n  Input should be a valid string [type=string_type, input_value=('validate_template', False), input_type=tuple]\n    For further information visit https://errors.pydantic.dev/2.9/v/string_type\ncontent.list[union[str,dict[any,any]]].9.dict[any,any]\n  Input should be a valid dictionary [type=dict_type, input_value=('validate_template', False), input_type=tuple]\n    For further information visit https://errors.pydantic.dev/2.9/v/dict_type",
     "output_type": "error",
     "traceback": [
      "\u001b[1;31m---------------------------------------------------------------------------\u001b[0m",
      "\u001b[1;31mValidationError\u001b[0m                           Traceback (most recent call last)",
      "Cell \u001b[1;32mIn[4], line 18\u001b[0m\n\u001b[0;32m      7\u001b[0m template \u001b[38;5;241m=\u001b[39m \u001b[38;5;124mf\u001b[39m\u001b[38;5;124m\"\"\"\u001b[39m\u001b[38;5;124m Title: \u001b[39m\u001b[38;5;130;01m\\n\u001b[39;00m\u001b[38;5;124m Content: \u001b[39m\u001b[38;5;130;01m\\n\u001b[39;00m\u001b[38;5;130;01m\\n\u001b[39;00m\n\u001b[0;32m      8\u001b[0m \u001b[38;5;124mSummarize this article in 3 bullet points.\u001b[39m\n\u001b[0;32m      9\u001b[0m \u001b[38;5;124mvalidated whether the news is latest or not by considering date and time \u001b[39m\u001b[38;5;132;01m{\u001b[39;00mcurrent_time()\u001b[38;5;132;01m}\u001b[39;00m\n\u001b[1;32m   (...)\u001b[0m\n\u001b[0;32m     14\u001b[0m \u001b[38;5;124m3. and so on\u001b[39m\n\u001b[0;32m     15\u001b[0m \u001b[38;5;124m\"\"\"\u001b[39m\n\u001b[0;32m     16\u001b[0m prompt\u001b[38;5;241m=\u001b[39mChatPromptTemplate\u001b[38;5;241m.\u001b[39mfrom_template(template)  \n\u001b[1;32m---> 18\u001b[0m llm\u001b[38;5;241m.\u001b[39minvoke([\u001b[43mHumanMessage\u001b[49m\u001b[43m(\u001b[49m\u001b[43mcontent\u001b[49m\u001b[38;5;241;43m=\u001b[39;49m\u001b[43mprompt\u001b[49m\u001b[43m)\u001b[49m])\n",
      "File \u001b[1;32mg:\\ANN,RNN,LSTM proj\\ANN\\venv\\Lib\\site-packages\\langchain_core\\messages\\human.py:52\u001b[0m, in \u001b[0;36mHumanMessage.__init__\u001b[1;34m(self, content, **kwargs)\u001b[0m\n\u001b[0;32m     43\u001b[0m \u001b[38;5;28;01mdef\u001b[39;00m \u001b[38;5;21m__init__\u001b[39m(\n\u001b[0;32m     44\u001b[0m     \u001b[38;5;28mself\u001b[39m, content: Union[\u001b[38;5;28mstr\u001b[39m, \u001b[38;5;28mlist\u001b[39m[Union[\u001b[38;5;28mstr\u001b[39m, \u001b[38;5;28mdict\u001b[39m]]], \u001b[38;5;241m*\u001b[39m\u001b[38;5;241m*\u001b[39mkwargs: Any\n\u001b[0;32m     45\u001b[0m ) \u001b[38;5;241m-\u001b[39m\u001b[38;5;241m>\u001b[39m \u001b[38;5;28;01mNone\u001b[39;00m:\n\u001b[0;32m     46\u001b[0m \u001b[38;5;250m    \u001b[39m\u001b[38;5;124;03m\"\"\"Pass in content as positional arg.\u001b[39;00m\n\u001b[0;32m     47\u001b[0m \n\u001b[0;32m     48\u001b[0m \u001b[38;5;124;03m    Args:\u001b[39;00m\n\u001b[0;32m     49\u001b[0m \u001b[38;5;124;03m        content: The string contents of the message.\u001b[39;00m\n\u001b[0;32m     50\u001b[0m \u001b[38;5;124;03m        kwargs: Additional fields to pass to the message.\u001b[39;00m\n\u001b[0;32m     51\u001b[0m \u001b[38;5;124;03m    \"\"\"\u001b[39;00m\n\u001b[1;32m---> 52\u001b[0m     \u001b[38;5;28;43msuper\u001b[39;49m\u001b[43m(\u001b[49m\u001b[43m)\u001b[49m\u001b[38;5;241;43m.\u001b[39;49m\u001b[38;5;21;43m__init__\u001b[39;49m\u001b[43m(\u001b[49m\u001b[43mcontent\u001b[49m\u001b[38;5;241;43m=\u001b[39;49m\u001b[43mcontent\u001b[49m\u001b[43m,\u001b[49m\u001b[43m \u001b[49m\u001b[38;5;241;43m*\u001b[39;49m\u001b[38;5;241;43m*\u001b[39;49m\u001b[43mkwargs\u001b[49m\u001b[43m)\u001b[49m\n",
      "File \u001b[1;32mg:\\ANN,RNN,LSTM proj\\ANN\\venv\\Lib\\site-packages\\langchain_core\\messages\\base.py:71\u001b[0m, in \u001b[0;36mBaseMessage.__init__\u001b[1;34m(self, content, **kwargs)\u001b[0m\n\u001b[0;32m     63\u001b[0m \u001b[38;5;28;01mdef\u001b[39;00m \u001b[38;5;21m__init__\u001b[39m(\n\u001b[0;32m     64\u001b[0m     \u001b[38;5;28mself\u001b[39m, content: Union[\u001b[38;5;28mstr\u001b[39m, \u001b[38;5;28mlist\u001b[39m[Union[\u001b[38;5;28mstr\u001b[39m, \u001b[38;5;28mdict\u001b[39m]]], \u001b[38;5;241m*\u001b[39m\u001b[38;5;241m*\u001b[39mkwargs: Any\n\u001b[0;32m     65\u001b[0m ) \u001b[38;5;241m-\u001b[39m\u001b[38;5;241m>\u001b[39m \u001b[38;5;28;01mNone\u001b[39;00m:\n\u001b[0;32m     66\u001b[0m \u001b[38;5;250m    \u001b[39m\u001b[38;5;124;03m\"\"\"Pass in content as positional arg.\u001b[39;00m\n\u001b[0;32m     67\u001b[0m \n\u001b[0;32m     68\u001b[0m \u001b[38;5;124;03m    Args:\u001b[39;00m\n\u001b[0;32m     69\u001b[0m \u001b[38;5;124;03m        content: The string contents of the message.\u001b[39;00m\n\u001b[0;32m     70\u001b[0m \u001b[38;5;124;03m    \"\"\"\u001b[39;00m\n\u001b[1;32m---> 71\u001b[0m     \u001b[38;5;28;43msuper\u001b[39;49m\u001b[43m(\u001b[49m\u001b[43m)\u001b[49m\u001b[38;5;241;43m.\u001b[39;49m\u001b[38;5;21;43m__init__\u001b[39;49m\u001b[43m(\u001b[49m\u001b[43mcontent\u001b[49m\u001b[38;5;241;43m=\u001b[39;49m\u001b[43mcontent\u001b[49m\u001b[43m,\u001b[49m\u001b[43m \u001b[49m\u001b[38;5;241;43m*\u001b[39;49m\u001b[38;5;241;43m*\u001b[39;49m\u001b[43mkwargs\u001b[49m\u001b[43m)\u001b[49m\n",
      "File \u001b[1;32mg:\\ANN,RNN,LSTM proj\\ANN\\venv\\Lib\\site-packages\\langchain_core\\load\\serializable.py:130\u001b[0m, in \u001b[0;36mSerializable.__init__\u001b[1;34m(self, *args, **kwargs)\u001b[0m\n\u001b[0;32m    128\u001b[0m \u001b[38;5;28;01mdef\u001b[39;00m \u001b[38;5;21m__init__\u001b[39m(\u001b[38;5;28mself\u001b[39m, \u001b[38;5;241m*\u001b[39margs: Any, \u001b[38;5;241m*\u001b[39m\u001b[38;5;241m*\u001b[39mkwargs: Any) \u001b[38;5;241m-\u001b[39m\u001b[38;5;241m>\u001b[39m \u001b[38;5;28;01mNone\u001b[39;00m:\n\u001b[0;32m    129\u001b[0m \u001b[38;5;250m    \u001b[39m\u001b[38;5;124;03m\"\"\"\"\"\"\u001b[39;00m  \u001b[38;5;66;03m# noqa: D419\u001b[39;00m\n\u001b[1;32m--> 130\u001b[0m     \u001b[38;5;28;43msuper\u001b[39;49m\u001b[43m(\u001b[49m\u001b[43m)\u001b[49m\u001b[38;5;241;43m.\u001b[39;49m\u001b[38;5;21;43m__init__\u001b[39;49m\u001b[43m(\u001b[49m\u001b[38;5;241;43m*\u001b[39;49m\u001b[43margs\u001b[49m\u001b[43m,\u001b[49m\u001b[43m \u001b[49m\u001b[38;5;241;43m*\u001b[39;49m\u001b[38;5;241;43m*\u001b[39;49m\u001b[43mkwargs\u001b[49m\u001b[43m)\u001b[49m\n",
      "File \u001b[1;32mg:\\ANN,RNN,LSTM proj\\ANN\\venv\\Lib\\site-packages\\pydantic\\main.py:212\u001b[0m, in \u001b[0;36mBaseModel.__init__\u001b[1;34m(self, **data)\u001b[0m\n\u001b[0;32m    210\u001b[0m \u001b[38;5;66;03m# `__tracebackhide__` tells pytest and some other tools to omit this function from tracebacks\u001b[39;00m\n\u001b[0;32m    211\u001b[0m __tracebackhide__ \u001b[38;5;241m=\u001b[39m \u001b[38;5;28;01mTrue\u001b[39;00m\n\u001b[1;32m--> 212\u001b[0m validated_self \u001b[38;5;241m=\u001b[39m \u001b[38;5;28;43mself\u001b[39;49m\u001b[38;5;241;43m.\u001b[39;49m\u001b[43m__pydantic_validator__\u001b[49m\u001b[38;5;241;43m.\u001b[39;49m\u001b[43mvalidate_python\u001b[49m\u001b[43m(\u001b[49m\u001b[43mdata\u001b[49m\u001b[43m,\u001b[49m\u001b[43m \u001b[49m\u001b[43mself_instance\u001b[49m\u001b[38;5;241;43m=\u001b[39;49m\u001b[38;5;28;43mself\u001b[39;49m\u001b[43m)\u001b[49m\n\u001b[0;32m    213\u001b[0m \u001b[38;5;28;01mif\u001b[39;00m \u001b[38;5;28mself\u001b[39m \u001b[38;5;129;01mis\u001b[39;00m \u001b[38;5;129;01mnot\u001b[39;00m validated_self:\n\u001b[0;32m    214\u001b[0m     warnings\u001b[38;5;241m.\u001b[39mwarn(\n\u001b[0;32m    215\u001b[0m         \u001b[38;5;124m'\u001b[39m\u001b[38;5;124mA custom validator is returning a value other than `self`.\u001b[39m\u001b[38;5;130;01m\\n\u001b[39;00m\u001b[38;5;124m'\u001b[39m\n\u001b[0;32m    216\u001b[0m         \u001b[38;5;124m\"\u001b[39m\u001b[38;5;124mReturning anything other than `self` from a top level model validator isn\u001b[39m\u001b[38;5;124m'\u001b[39m\u001b[38;5;124mt supported when validating via `__init__`.\u001b[39m\u001b[38;5;130;01m\\n\u001b[39;00m\u001b[38;5;124m\"\u001b[39m\n\u001b[0;32m    217\u001b[0m         \u001b[38;5;124m'\u001b[39m\u001b[38;5;124mSee the `model_validator` docs (https://docs.pydantic.dev/latest/concepts/validators/#model-validators) for more details.\u001b[39m\u001b[38;5;124m'\u001b[39m,\n\u001b[0;32m    218\u001b[0m         category\u001b[38;5;241m=\u001b[39m\u001b[38;5;28;01mNone\u001b[39;00m,\n\u001b[0;32m    219\u001b[0m     )\n",
      "\u001b[1;31mValidationError\u001b[0m: 21 validation errors for HumanMessage\ncontent.str\n  Input should be a valid string [type=string_type, input_value=ChatPromptTemplate(input_... additional_kwargs={})]), input_type=ChatPromptTemplate]\n    For further information visit https://errors.pydantic.dev/2.9/v/string_type\ncontent.list[union[str,dict[any,any]]].0.str\n  Input should be a valid string [type=string_type, input_value=('name', None), input_type=tuple]\n    For further information visit https://errors.pydantic.dev/2.9/v/string_type\ncontent.list[union[str,dict[any,any]]].0.dict[any,any]\n  Input should be a valid dictionary [type=dict_type, input_value=('name', None), input_type=tuple]\n    For further information visit https://errors.pydantic.dev/2.9/v/dict_type\ncontent.list[union[str,dict[any,any]]].1.str\n  Input should be a valid string [type=string_type, input_value=('input_variables', []), input_type=tuple]\n    For further information visit https://errors.pydantic.dev/2.9/v/string_type\ncontent.list[union[str,dict[any,any]]].1.dict[any,any]\n  Input should be a valid dictionary [type=dict_type, input_value=('input_variables', []), input_type=tuple]\n    For further information visit https://errors.pydantic.dev/2.9/v/dict_type\ncontent.list[union[str,dict[any,any]]].2.str\n  Input should be a valid string [type=string_type, input_value=('optional_variables', []), input_type=tuple]\n    For further information visit https://errors.pydantic.dev/2.9/v/string_type\ncontent.list[union[str,dict[any,any]]].2.dict[any,any]\n  Input should be a valid dictionary [type=dict_type, input_value=('optional_variables', []), input_type=tuple]\n    For further information visit https://errors.pydantic.dev/2.9/v/dict_type\ncontent.list[union[str,dict[any,any]]].3.str\n  Input should be a valid string [type=string_type, input_value=('input_types', {}), input_type=tuple]\n    For further information visit https://errors.pydantic.dev/2.9/v/string_type\ncontent.list[union[str,dict[any,any]]].3.dict[any,any]\n  Input should be a valid dictionary [type=dict_type, input_value=('input_types', {}), input_type=tuple]\n    For further information visit https://errors.pydantic.dev/2.9/v/dict_type\ncontent.list[union[str,dict[any,any]]].4.str\n  Input should be a valid string [type=string_type, input_value=('output_parser', None), input_type=tuple]\n    For further information visit https://errors.pydantic.dev/2.9/v/string_type\ncontent.list[union[str,dict[any,any]]].4.dict[any,any]\n  Input should be a valid dictionary [type=dict_type, input_value=('output_parser', None), input_type=tuple]\n    For further information visit https://errors.pydantic.dev/2.9/v/dict_type\ncontent.list[union[str,dict[any,any]]].5.str\n  Input should be a valid string [type=string_type, input_value=('partial_variables', {}), input_type=tuple]\n    For further information visit https://errors.pydantic.dev/2.9/v/string_type\ncontent.list[union[str,dict[any,any]]].5.dict[any,any]\n  Input should be a valid dictionary [type=dict_type, input_value=('partial_variables', {}), input_type=tuple]\n    For further information visit https://errors.pydantic.dev/2.9/v/dict_type\ncontent.list[union[str,dict[any,any]]].6.str\n  Input should be a valid string [type=string_type, input_value=('metadata', None), input_type=tuple]\n    For further information visit https://errors.pydantic.dev/2.9/v/string_type\ncontent.list[union[str,dict[any,any]]].6.dict[any,any]\n  Input should be a valid dictionary [type=dict_type, input_value=('metadata', None), input_type=tuple]\n    For further information visit https://errors.pydantic.dev/2.9/v/dict_type\ncontent.list[union[str,dict[any,any]]].7.str\n  Input should be a valid string [type=string_type, input_value=('tags', None), input_type=tuple]\n    For further information visit https://errors.pydantic.dev/2.9/v/string_type\ncontent.list[union[str,dict[any,any]]].7.dict[any,any]\n  Input should be a valid dictionary [type=dict_type, input_value=('tags', None), input_type=tuple]\n    For further information visit https://errors.pydantic.dev/2.9/v/dict_type\ncontent.list[union[str,dict[any,any]]].8.str\n  Input should be a valid string [type=string_type, input_value=('messages', [HumanMessag... additional_kwargs={})]), input_type=tuple]\n    For further information visit https://errors.pydantic.dev/2.9/v/string_type\ncontent.list[union[str,dict[any,any]]].8.dict[any,any]\n  Input should be a valid dictionary [type=dict_type, input_value=('messages', [HumanMessag... additional_kwargs={})]), input_type=tuple]\n    For further information visit https://errors.pydantic.dev/2.9/v/dict_type\ncontent.list[union[str,dict[any,any]]].9.str\n  Input should be a valid string [type=string_type, input_value=('validate_template', False), input_type=tuple]\n    For further information visit https://errors.pydantic.dev/2.9/v/string_type\ncontent.list[union[str,dict[any,any]]].9.dict[any,any]\n  Input should be a valid dictionary [type=dict_type, input_value=('validate_template', False), input_type=tuple]\n    For further information visit https://errors.pydantic.dev/2.9/v/dict_type"
     ]
    }
   ],
   "source": [
    "from langchain_groq import ChatGroq\n",
    "from langchain_core.messages import HumanMessage\n",
    "from datetime import datetime\n",
    "from langchain_core.prompts import ChatPromptTemplate\n",
    "\n",
    "llm = ChatGroq(model=\"llama3-8b-8192\")\n",
    "template = f\"\"\" Title: \\n Content: \\n\\n\n",
    "Summarize this article in 3 bullet points.\n",
    "validated whether the news is latest or not by considering date and time {current_time()}\n",
    "for example follow given format:\n",
    "Title: Innovation in AI\n",
    "1. AI is becoming famous amoung the world......\n",
    "2. Every business wants to integrate with AI.....\n",
    "3. and so on\n",
    "\"\"\"\n",
    "prompt=ChatPromptTemplate.from_template(template)  \n",
    "\n",
    "llm.invoke([HumanMessage(content=prompt)])"
   ]
  },
  {
   "cell_type": "code",
   "execution_count": 1,
   "id": "0ad2cc16",
   "metadata": {},
   "outputs": [
    {
     "name": "stderr",
     "output_type": "stream",
     "text": [
      "g:\\ANN,RNN,LSTM proj\\ANN\\venv\\Lib\\site-packages\\tqdm\\auto.py:21: TqdmWarning: IProgress not found. Please update jupyter and ipywidgets. See https://ipywidgets.readthedocs.io/en/stable/user_install.html\n",
      "  from .autonotebook import tqdm as notebook_tqdm\n"
     ]
    },
    {
     "name": "stdout",
     "output_type": "stream",
     "text": [
      "WARNING:tensorflow:From g:\\ANN,RNN,LSTM proj\\ANN\\venv\\Lib\\site-packages\\keras\\src\\losses.py:2976: The name tf.losses.sparse_softmax_cross_entropy is deprecated. Please use tf.compat.v1.losses.sparse_softmax_cross_entropy instead.\n",
      "\n"
     ]
    }
   ],
   "source": [
    "from transformers import pipeline"
   ]
  },
  {
   "cell_type": "code",
   "execution_count": 6,
   "id": "bae80293",
   "metadata": {},
   "outputs": [
    {
     "name": "stdout",
     "output_type": "stream",
     "text": [
      "Evaluation:\n",
      "\n",
      "The summary provides a good overview of the growing adoption of AI solutions and its benefits, but it could be improved in several areas. The first point is too vague, as it only states the percentage of companies investing in AI without specifying the industries or sectors involved. Additionally, the second point could be more specific about the companies' uses of AI, rather than just stating that they are leveraging AI. The example provided is a good start, but it would be more effective if it included more details about the companies' experiences, such as the specific AI technologies used and the results they achieved.\n",
      "\n",
      "Revised Summary:\n",
      "\n",
      "• According to Gartner, 74% of companies across various industries, including retail, finance, and healthcare, have invested in AI solutions in the past year, with a significant focus on improving customer service, streamlining operations, and enhancing product offerings.\n",
      "• Industry leaders like Amazon, Google, and Microsoft are utilizing AI to drive business outcomes, with Amazon using AI-powered recommendation engines to boost sales, Google employing AI-driven analytics to improve advertising effectiveness, and Microsoft leveraging AI to enhance its customer support capabilities.\n",
      "• For instance, AI-powered chatbots have resulted in a 25% increase in customer satisfaction rates and a 50% reduction in response times for companies like Domino's Pizza and American Express, which have implemented AI-powered customer service solutions to provide 24/7 support to their customers.\n"
     ]
    }
   ],
   "source": [
    "from langchain_core.prompts import ChatPromptTemplate\n",
    "from langchain_groq import ChatGroq\n",
    "from langchain_core.messages import HumanMessage\n",
    "critic_template = \"\"\"\n",
    "You are an expert AI summarization critic.\n",
    "\n",
    "Here is the summary to review:\n",
    "\n",
    "{summary}\n",
    "\n",
    "Evaluate the above summary and write Revised summary again if it required improvements :\n",
    "- Is it too vague or generic?\n",
    "- Does it lack specificity, facts, or examples?\n",
    "- Could it be improved?\n",
    "\n",
    "Respond using **this exact format**:\n",
    "\n",
    "Evaluation: <write your critique here>\n",
    "\n",
    "Revised Summary (if needed): <write your improved version here, write in bullet points. 1. 2. 3. >\n",
    "\n",
    "\n",
    "\n",
    "\"\"\"\n",
    "\n",
    "summary = \"\"\"\n",
    "* AI adoption is on the rise, with 74% of companies investing in AI solutions in the past year (Source: Gartner).\n",
    "* Industry leaders such as Amazon, Google, and Microsoft are leveraging AI to improve customer service, streamline operations, and enhance product offerings.\n",
    "* For example, AI-powered chatbots have increased customer satisfaction rates by 25% and reduced response times by 50% for companies like Domino's Pizza and American Express.\n",
    "    \"\"\"\n",
    "critic_prompt=ChatPromptTemplate.from_template(template=critic_template)\n",
    "llm=ChatGroq(model=\"llama3-8b-8192\")\n",
    "prompt = critic_prompt.format(summary=summary)\n",
    "response = llm.invoke([HumanMessage(content=prompt)])\n",
    "print(response.content)"
   ]
  },
  {
   "cell_type": "code",
   "execution_count": null,
   "id": "1719eee9",
   "metadata": {},
   "outputs": [],
   "source": []
  }
 ],
 "metadata": {
  "kernelspec": {
   "display_name": "Python 3",
   "language": "python",
   "name": "python3"
  },
  "language_info": {
   "codemirror_mode": {
    "name": "ipython",
    "version": 3
   },
   "file_extension": ".py",
   "mimetype": "text/x-python",
   "name": "python",
   "nbconvert_exporter": "python",
   "pygments_lexer": "ipython3",
   "version": "3.12.0"
  }
 },
 "nbformat": 4,
 "nbformat_minor": 5
}
